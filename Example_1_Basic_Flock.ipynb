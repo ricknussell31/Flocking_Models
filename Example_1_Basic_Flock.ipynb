{
 "cells": [
  {
   "cell_type": "markdown",
   "metadata": {},
   "source": [
    "## Example 1 - Different Flocking Mechanisms"
   ]
  },
  {
   "cell_type": "markdown",
   "metadata": {},
   "source": [
    "In this example, we will run the code that makes a simple animation for our two different versions of the Viscek model."
   ]
  },
  {
   "cell_type": "markdown",
   "metadata": {},
   "source": [
    "### Metric model\n",
    "\n",
    "Assume we are in a periodic domain, the size of which is $L \\times L$, and there are $N$ total individuals in the population. An individual $i$ is then described by its position $\\vec{r}_i(t)$ and it's angle of trajectory, which is defined by $\\theta_i(t)$, where $t \\geq 0$ denotes time. Then, at $t + \\Delta t$, the new position and trajectory of an individual is constructed by the algorithm  \n",
    "\n",
    "$\\theta_i(t + \\Delta t) = \\epsilon \\left\\langle \\theta_j(t) \\right\\rangle_{|\\vec{r}_i - \\vec{r}_j| \\leq r} + (1 - \\epsilon)\\theta_i(t) + n_i(t) \\\\\n",
    "\\vec{r}_i(t + \\Delta t) = \\vec{r}_i(t) + v \\Delta t \\left\\langle \\cos(\\theta_i(t + \\Delta t)), \\sin(\\theta_i(t + \\Delta t)) \\right\\rangle$\n",
    "\n",
    "where $v$ is the constant speed of all individuals and $n_i(t)$ is the noise in the system. Usually, $n_i(t)$ is randomly chosen from a uniform distribution $[-\\eta/2, \\eta/2]$. As well, note that  $\\left\\langle \\theta_j(t) \\right\\rangle_{|\\vec{r}_i - \\vec{r}_j| \\leq r} $ is the average velocity of all of the individuals that are within a certain distance, $r$, of an individual. As well, we impart a value $\\epsilon \\in [0,1]$ to be a delay parameter to slow things down. At $\\epsilon = 0$, the system does not flock and just moves ballistically with noise, whereas the system at $\\epsilon = 1$ is the exact Viscek model with no delay."
   ]
  },
  {
   "cell_type": "code",
   "execution_count": null,
   "metadata": {},
   "outputs": [],
   "source": [
    "from scipy import *\n",
    "import numpy as np\n",
    "import Methods.AnimationSuite as AS\n",
    "import Methods.FlockingMethods as FM \n",
    "import profile\n",
    "%matplotlib notebook\n",
    "\n",
    "#%load_ext Cython"
   ]
  },
  {
   "cell_type": "code",
   "execution_count": null,
   "metadata": {},
   "outputs": [],
   "source": [
    "################################\n",
    "######## Metric Model ##########\n",
    "################################\n",
    "%matplotlib notebook\n",
    "\n",
    "#First step is to create the class for your particles, noting the followng parameters:#\n",
    "# L - Domain Parameter. It is an L x L box with periodic boundary conditions\n",
    "# N - Number of particles in the simulation\n",
    "# eta - the noise parameter for the velocitity: uniform dist. of [-eta/2, eta/2] \n",
    "# k - flocking scheme: if k = 0, we choose the Viscek model. If k > 0, we use the topological model with k nearest neighbors\n",
    "# r - radius parameter for Viscek model. Only necessary if k = 0. Does nothing for k > 0. \n",
    "# dt - timestep size\n",
    "# v - constant speed\n",
    "# time - time length for the simulation\n",
    "# ep - delay parameter. If ep = 1, there is no delay. ep = 0 is ballistic movement. \n",
    "\n",
    "#This example shows the exact Viscek model.\n",
    "#We first initalize the class and call it something\n",
    "Fish = FM.Particles(L=5,N=100,eta=.4,k = 0,r=1,dt=1,v=0.3,time=100,ep=1)\n",
    "\n",
    "#Let's run this simulation, and we get 3 items in return. The x-coordinates, the y-coordinates, and the velocities\n",
    "\n",
    "posx, posy, velo = Fish.Simulation()\n",
    "\n",
    "# If we want to animate the solution, we use the animation suite created to make it happen. \n",
    "# To change the title, one can go into the package and change it. Hopefully, this will be \n",
    "# included in further developments of this code.\n",
    "\n",
    "anim = AS.Simulation_Animation(posx,posy,velo,Fish)\n",
    "\n",
    "# We can also save the animation using a writer of our choice using\n",
    "# anim.save('Fish_Simulation_Viscek.mp4',writer='ffmpeg')"
   ]
  },
  {
   "cell_type": "code",
   "execution_count": null,
   "metadata": {
    "scrolled": false
   },
   "outputs": [],
   "source": [
    "#What happens if we slow down the model using our delay parameter? \n",
    "# Changing epsilon to .4 slows the flocking scheme down\n",
    "%matplotlib notebook\n",
    "\n",
    "FishSlow = FM.Particles(L=5,N=100,eta=.4,k = 0,r=1,dt=1,v=0.3,time=100,ep=.4)\n",
    "\n",
    "#Let's run this simulation, and we get 3 items in return. The x-coordinates, the y-coordinates, and the velocities\n",
    "\n",
    "posx, posy, velo = FishSlow.Simulation()\n",
    "\n",
    "# Animating this, we can see it flocks slower, but similarly. This gives us access to time-series analysis\n",
    "\n",
    "anim = AS.Simulation_Animation(posx,posy,velo,FishSlow)"
   ]
  },
  {
   "cell_type": "markdown",
   "metadata": {},
   "source": [
    "### Topological model\n",
    "\n",
    "We now consider a slight modification of the metric model. Consider an individual $i$. Instead of averaging all of the velocities of the individuals that are within a certain distance of $i$, we instead average the velocities of just the $k$ closest individuals to $i$. In algorithm form, to find the next velocity of an individual $i$, we find the $k$ ($k \\geq 1$) nearest neighbors to $i$, average the velocities of these $k$ inidividuals, and update the velocity. Denoting this averaging process as $\\left\\langle \\cdots  \\right\\rangle_k$, we have our topological model,\n",
    "\n",
    "$\\theta_i(t + \\Delta t) = \\epsilon \\left\\langle \\theta_j(t) \\right\\rangle_{k} + (1 - \\epsilon)\\theta_i(t) + n_i(t) \\\\\n",
    "\\vec{r}_i(t + \\Delta t) = \\vec{r}_i(t) + v \\Delta t \\left\\langle \\cos(\\theta_i(t + \\Delta t)), \\sin(\\theta_i(t + \\Delta t)) \\right\\rangle$\n",
    "\n",
    "Note that the update algorithm for the position vector does not change from the metric model."
   ]
  },
  {
   "cell_type": "code",
   "execution_count": null,
   "metadata": {},
   "outputs": [],
   "source": [
    "#####################################\n",
    "######## Topological Model ##########\n",
    "#####################################\n",
    "\n",
    "%matplotlib notebook\n",
    "\n",
    "# All of the parameters for the Topoloogical model work exactly as the metric model.\n",
    "# However, to make the topological model, k must be a positive integer, and this will\n",
    "# be denoted as the k-nearest neighbors the simulation chooses. \n",
    "\n",
    "# Let's assume no delay and make the k = 4.Note that r can be anything here, as it \n",
    "# does not make any difference for the simulations\n",
    "\n",
    "Fish4 = FM.Particles(L=5,N=100,eta=.4,k=4,r=1,dt=1,v=0.3,time=100,ep=1)\n",
    "\n",
    "#Let's run this simulation. We do not need to add anything differently here. =\n",
    "posx, posy, velo = Fish4.Simulation()\n",
    "\n",
    "# As we can see in the animation, this flocks slowly even without the delay parameter. \n",
    "anim = AS.Simulation_Animation(posx,posy,velo,Fish4)"
   ]
  }
 ],
 "metadata": {
  "kernelspec": {
   "display_name": "Python 3",
   "language": "python",
   "name": "python3"
  },
  "language_info": {
   "codemirror_mode": {
    "name": "ipython",
    "version": 3
   },
   "file_extension": ".py",
   "mimetype": "text/x-python",
   "name": "python",
   "nbconvert_exporter": "python",
   "pygments_lexer": "ipython3",
   "version": "3.7.3"
  }
 },
 "nbformat": 4,
 "nbformat_minor": 2
}
